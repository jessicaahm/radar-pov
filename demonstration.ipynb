{
 "cells": [
  {
   "cell_type": "markdown",
   "id": "4dcf4fa1",
   "metadata": {
    "vscode": {
     "languageId": "plaintext"
    }
   },
   "source": [
    "### Scenario 1: GitHub PR\n",
    "\n",
    "**Description**: Explore how github PR work with HashiCorp Vault Radar and also notice why doc/index.mdx is not flagged out (due to global ignore rules)\n",
    "\n",
    "> Take note that you can select the repositories that you would like to scan\n",
    "\n",
    "> Set branch protection with status check\n",
    "\n",
    "Compare the differences:\n",
    "- No secrets > Merge allowed\n",
    "https://github.com/jessicaahm/hcp-vault-radar-foundations/pull/3\n",
    "- With secrets > Merge not allowed\n",
    "https://github.com/jessicaahm/hcp-vault-radar-foundations/pull/4\n",
    "\n",
    "\n",
    "\n",
    "- demo-update-password. Update with aws_secret_key: `PvL4FjrrSXyT7qrllCS42SoNFbNI1c5NBJNqi8In`\n",
    "- create pull request\n",
    "- Observe check failure\n",
    "\n"
   ]
  },
  {
   "cell_type": "markdown",
   "id": "31b2cab0",
   "metadata": {},
   "source": [
    "### Scenario 2: Manual scanning Resources using Radar\n",
    "Description: Explore how resources are scanned manually using Radar\n",
    "\n",
    "- Go to page `Resources` > `Resource Name` > Select on one of the data source > Click on `Add to scan queue`"
   ]
  },
  {
   "cell_type": "markdown",
   "id": "a0c53254",
   "metadata": {},
   "source": [
    "### Scenario 3: Reindexing with Vault in Radar\n",
    "\n",
    "Description: Explore how correlation in Radar work"
   ]
  },
  {
   "cell_type": "markdown",
   "id": "7567f24a",
   "metadata": {},
   "source": [
    "### Scenario 4: Store secrets in secret Manager\n",
    "\n",
    "> Available for Confluence and Git\n",
    "\n",
    "Description: Explore how you can store secrets with 1 click of a button"
   ]
  },
  {
   "cell_type": "markdown",
   "id": "91d46be5",
   "metadata": {},
   "source": [
    "#### Scenario 5: Explore how custom expression works for PII and profanity\n",
    "\n",
    "Description: Set up Custom expression will show up low severity in Radar\n",
    "\n",
    "Example: `([STFG]\\d{7}[A-Z])\\s+([A-Za-z][A-Za-z\\s]+)`"
   ]
  },
  {
   "cell_type": "markdown",
   "id": "105fc07c",
   "metadata": {},
   "source": [
    "### Scenario 6: Explore saved filters which you can used for subscription\n",
    "\n",
    "Description: \n",
    "\n",
    "- Go to event > Select your `filters` > save\n",
    "- In Settings > Select Filters > Look at the new Filter > e.g. `PII-Only`\n",
    "- Integrations > Slack > Update  `Connections` > Update `Slack`\n",
    "- Show slack channel #Security-Response"
   ]
  },
  {
   "cell_type": "markdown",
   "id": "2da8e8cc",
   "metadata": {
    "vscode": {
     "languageId": "plaintext"
    }
   },
   "source": [
    "### Scenario 7: Add links to your own remediation guide\n",
    "Description: You can add links to these speciic remediation name:\n",
    "- Active or unknown AWS secrets\n",
    "- Active or unknown GCP secrets\n",
    "- Active or unknown secrets\n",
    "- Inactive secrets\n",
    "\n"
   ]
  }
 ],
 "metadata": {
  "language_info": {
   "name": "python"
  }
 },
 "nbformat": 4,
 "nbformat_minor": 5
}
